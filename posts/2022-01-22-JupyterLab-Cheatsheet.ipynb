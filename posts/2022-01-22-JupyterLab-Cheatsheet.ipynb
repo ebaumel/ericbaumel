{
 "cells": [
  {
   "cell_type": "raw",
   "metadata": {},
   "source": [
    "---\n",
    "aliases:\n",
    "- /2022/01/22/JupyterLab-Cheatsheet\n",
    "date: '2022-01-22'\n",
    "description: Tips and tricks for the next stup in Project Jupyter evolution.\n",
    "output-file: 2022-01-22-jupyterlab-cheatsheet.html\n",
    "title: JupyterLab Cheat Sheet\n",
    "image: \"interface_jupyterlab.png\"\n",
    "\n",
    "---\n",
    "\n"
   ]
  },
  {
   "cell_type": "markdown",
   "id": "c9d2d173-8c0b-44da-ad86-79285bcd5f52",
   "metadata": {},
   "source": [
    "\n",
    "# JupyterLab Cheat Sheet\n",
    "\n",
    "### by Eric M. Baumel\n"
   ]
  },
  {
   "cell_type": "markdown",
   "id": "c8ef0022-15a6-4636-9bf2-917e6e7c6807",
   "metadata": {},
   "source": [
    "JupyterLab is the latest iteration of the popular interactive Python notebook environment, inheriting from iPython and Jupyter Notebooks. See [Project Jupyter](https://jupyter.org).  \n",
    "JupyterLab provides the interactive notebook format of Jupyter Notebooks, with an integrated file borwser, console and more."
   ]
  },
  {
   "cell_type": "markdown",
   "id": "e60b1e1b-b9e9-4266-8e30-319631aa9419",
   "metadata": {},
   "source": [
    "You install JupyterLab either from Anaconda or via pip with: `pip install jupyterlab`.\n",
    "\n",
    "You launch the JupyterLab server from the command line with `jupyter lab`.\n",
    "\n",
    "If your browser doesn't launch by itself, you go to `http://localhost:8888/lab`\n",
    "\n",
    "A iPython notebook file `.ipynb` can be opened with either Jupyter Notebok or JupyterLab."
   ]
  },
  {
   "cell_type": "markdown",
   "id": "9b5ffef2-cc68-4826-8ddc-dc2416b5fbfc",
   "metadata": {},
   "source": [
    "\n",
    "## JupyterLab Interface Shortcuts\n",
    "\n",
    "- Toggle the sidebar with `Cmd + B`\n",
    "- Save the notebook with `Cmd + S`\n",
    "- Save As with `Shift + Cmd + S`\n",
    "- Close a tab with `Option + W` or `Alt + W`"
   ]
  },
  {
   "cell_type": "markdown",
   "id": "8a19c046-a162-4905-8300-139e85ebdfd8",
   "metadata": {},
   "source": [
    "\n",
    "## Running a Cell\n",
    "\n",
    "- To execute a cell and move tho the next cell in command mode click the run button `▸` in the toolbar or use `Shift + Enter` on the keyboard\n",
    "\n",
    "- To execute the cell and stay on that cell use `Ctl + Enter`\n",
    "\n",
    "- Interupt a Running Cell with `II`"
   ]
  },
  {
   "cell_type": "markdown",
   "id": "817786b8-8d98-4f3b-ab17-6d7c8a825074",
   "metadata": {
    "tags": []
   },
   "source": [
    "\n",
    "## Toggle Between Command and Edit Modes"
   ]
  },
  {
   "cell_type": "markdown",
   "id": "841ed781-4d4e-4c39-8ef4-d1e921ac9461",
   "metadata": {},
   "source": [
    "- Change to Command mode with the `ESC` key\n",
    "- Change to the Edit mode with the `Enter` key"
   ]
  },
  {
   "cell_type": "markdown",
   "id": "0a520318-f274-4030-b022-ea4817cc5069",
   "metadata": {},
   "source": [
    "\n",
    "### Command Mode Keyboard Shortcuts\n",
    "\n",
    "Move between cells with the up `↑` and down `↓` arrow keys"
   ]
  },
  {
   "cell_type": "markdown",
   "id": "d71d7ce8-0397-4687-b092-bbc091ec71a8",
   "metadata": {},
   "source": [
    "- Create a cell *above* the active cell with the `A` key\n",
    "- Create a cell *below* the active cell with the `B` key\n",
    "\n",
    "- Delete the active cell with `DD`\n",
    "- Undo a cell with the `Z` key\n",
    "- Copy a cell with the `C` key\n",
    "- Paste a cell with the `V` key\n",
    "\n",
    "- Change to *markdown* mode with the `M` key\n",
    "- Change to *code* mode with the `Y` key"
   ]
  },
  {
   "cell_type": "markdown",
   "id": "d7406a00-4f4f-4f77-8875-c71034551cd2",
   "metadata": {},
   "source": [
    "\n",
    "## Code Completion\n",
    "\n",
    "The `Tab` key gives you a list of possible class or function choices.\n",
    "\n",
    "`Shift + Tab` shows a tooltip of the fucion or class the cursor is on."
   ]
  },
  {
   "cell_type": "markdown",
   "id": "0fe99e73-52e1-4e4e-9451-f5d2cc06bcf6",
   "metadata": {},
   "source": [
    "\n",
    "## Markdown Basics\n",
    "\n",
    "Adapted from:\n",
    "[Markdown Guide](https://www.markdownguide.org/basic-syntax/)"
   ]
  },
  {
   "cell_type": "markdown",
   "id": "5502f6dd-e5d5-477b-8a03-11d45200a263",
   "metadata": {
    "tags": []
   },
   "source": [
    "\n",
    "### Headings\n",
    "\n",
    "To create a heading, add number signs (#) in front of a word or phrase. The number of number signs you use should correspond to the heading level. \n",
    "\n",
    "For compatibility, always put a space between the number signs and the heading name. Also, put blank lines before and after a heading for compatibility.\n",
    "\n",
    "Example:\n",
    "\n",
    "`# Heading 1: Document Title`\n",
    "\n",
    "`## Heading 2: A subtitle`\n",
    "\n",
    "\n",
    "# Heading 1: Document Title\n",
    "\n",
    "## Heading 2: A subtitle"
   ]
  },
  {
   "cell_type": "markdown",
   "id": "d6ca52f9-67f4-4a65-bc18-6a9ffb9ecec8",
   "metadata": {},
   "source": [
    "\n",
    "### Line Breaks\n",
    "\n",
    "To create a line break or new line `<br>`, end a line with two or more spaces, and then type return.\n",
    "\n",
    "Example:  \n",
    "`A line break <br> here.`  \n",
    "A line break <br> here."
   ]
  },
  {
   "cell_type": "markdown",
   "id": "ad6892bd-0c66-4f3c-8a94-69ffa55730e6",
   "metadata": {},
   "source": [
    "\n",
    "### Text Formatting\n",
    "\n",
    "**Bold Text** - `**Bold Text**`  \n",
    "*Italics Text* - `*Italic Text*`  \n",
    "***BoldItalics*** - `***BoldItalic Text***`    "
   ]
  },
  {
   "cell_type": "markdown",
   "id": "6ecdcc47-23a8-4bda-bc52-9d49ee50a506",
   "metadata": {},
   "source": [
    "\n",
    "### Code\n",
    "\n",
    "To show a word or phrase as code, enclose it in backticks (`).\n",
    "\n",
    "Example: \n",
    "\n",
    "Install a library with, `pip install jupyterlabs`.\n",
    "\n",
    "Code blocks are normally indented four spaces or one tab. When they’re in a list, indent them eight spaces or two tabs. You can also enclose the codeblock thith three backticks (```), or three tildes `~~~`.\n",
    "\n",
    "~~~\n",
    "# Imports\n",
    "import pandas\n",
    "import numpy\n",
    "~~~"
   ]
  },
  {
   "cell_type": "markdown",
   "id": "93884e75-9c8f-467a-92e2-e9644ee3f2cd",
   "metadata": {},
   "source": [
    "\n",
    "### Links\n",
    "\n",
    "`[title](https://www.example.com)`"
   ]
  },
  {
   "cell_type": "markdown",
   "id": "2d2df4db-9bb4-473b-a475-22024154f729",
   "metadata": {},
   "source": [
    "\n",
    "### Images\n",
    "\n",
    "`![alt text](image.jpg)`"
   ]
  },
  {
   "cell_type": "markdown",
   "id": "f13a4532-df77-49b5-95e2-0d1fdb8e156e",
   "metadata": {},
   "source": [
    "\n",
    "### Blockquotes\n",
    "\n",
    "The *Greater Than* sign `>` offsets blockquotes.  \n",
    "\n",
    "`> Think globally, act locally.` is rendered as:\n",
    "> Think globally, act locally.\n"
   ]
  },
  {
   "cell_type": "markdown",
   "id": "ac96fea9-5458-4c01-94d9-1c2b99306bbd",
   "metadata": {},
   "source": [
    "\n",
    "### Lists\n",
    "\n",
    "#### Unordered Lists\n",
    "\n",
    "Use a dash `-` for unorderd list:\n",
    "\n",
    "- An Unordered List Item `- An Unordered List Item`\n",
    "  - Another List Item `- Another List Item`"
   ]
  },
  {
   "cell_type": "markdown",
   "id": "af72a057-4ad9-4968-8966-416f0689f604",
   "metadata": {},
   "source": [
    "\n",
    "#### Ordered Lists\n",
    "\n",
    "1. To create an order list, start the line with a number and a period. `1. To create an order list...`\n",
    "2. If you need to use a number at the start of a list item, you *escape* the period by adding a backslash character `\\` after the number, but before the period: `2022\\. That's the year I wrote this.`"
   ]
  }
 ],
 "metadata": {
  "kernelspec": {
   "display_name": "Python 3 (ipykernel)",
   "language": "python",
   "name": "python3"
  },
  "language_info": {
   "codemirror_mode": {
    "name": "ipython",
    "version": 3
   },
   "file_extension": ".py",
   "mimetype": "text/x-python",
   "name": "python",
   "nbconvert_exporter": "python",
   "pygments_lexer": "ipython3",
   "version": "3.9.7"
  }
 },
 "nbformat": 4,
 "nbformat_minor": 5
}
